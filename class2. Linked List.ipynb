{
 "cells": [
  {
   "cell_type": "markdown",
   "metadata": {},
   "source": [
    "## Error Handler\n",
    "    에러를 다루는 법을 확인해보자\n",
    "    try: \n",
    "        일단 이 구절을 시도\n",
    "    except Error: \n",
    "        이 에러가 뜨면 이걸 실행\n",
    "    finally: \n",
    "        최종적으로는 이걸 실행\n",
    "        \n",
    "    raise Error\n",
    "    \n",
    "    에러 종류:\n",
    "http://hleecaster.com/python-exception/ 참고"
   ]
  },
  {
   "cell_type": "code",
   "execution_count": 1,
   "metadata": {},
   "outputs": [
    {
     "name": "stdout",
     "output_type": "stream",
     "text": [
      "[1, 2, 3, 20, 3]\n"
     ]
    }
   ],
   "source": [
    "try:\n",
    "    a = [1,2,3,4]\n",
    "    a[10] = 20\n",
    "    \n",
    "except IndexError:\n",
    "    a[3] = 20\n",
    "\n",
    "# finally:\n",
    "#     a.append(3)\n",
    "#     print(a)"
   ]
  },
  {
   "cell_type": "code",
   "execution_count": 2,
   "metadata": {
    "scrolled": false
   },
   "outputs": [
    {
     "ename": "ValueError",
     "evalue": "Hello, My Custom Error",
     "output_type": "error",
     "traceback": [
      "\u001b[0;31m---------------------------------------------------------------------------\u001b[0m",
      "\u001b[0;31mValueError\u001b[0m                                Traceback (most recent call last)",
      "\u001b[0;32m<ipython-input-2-3b9d58f79cae>\u001b[0m in \u001b[0;36m<module>\u001b[0;34m\u001b[0m\n\u001b[0;32m----> 1\u001b[0;31m \u001b[0;32mraise\u001b[0m \u001b[0mValueError\u001b[0m\u001b[0;34m(\u001b[0m\u001b[0;34m\"Hello, My Custom Error\"\u001b[0m\u001b[0;34m)\u001b[0m\u001b[0;34m\u001b[0m\u001b[0;34m\u001b[0m\u001b[0m\n\u001b[0m",
      "\u001b[0;31mValueError\u001b[0m: Hello, My Custom Error"
     ]
    }
   ],
   "source": [
    "raise ValueError(\"Hello, My Custom Error\")"
   ]
  },
  {
   "cell_type": "markdown",
   "metadata": {},
   "source": [
    "## Linked List\n",
    "    단순연결 리스트로 헤드로부터 한줄로 쭉 이어져 있는 자료구조이다."
   ]
  },
  {
   "cell_type": "markdown",
   "metadata": {},
   "source": [
    "# Linked List With Dict"
   ]
  },
  {
   "cell_type": "code",
   "execution_count": 13,
   "metadata": {},
   "outputs": [],
   "source": [
    "Node = {\"value\":None, \"next\":None}"
   ]
  },
  {
   "cell_type": "code",
   "execution_count": 14,
   "metadata": {},
   "outputs": [],
   "source": [
    "node1 = Node.copy()\n",
    "node1[\"value\"] = 1"
   ]
  },
  {
   "cell_type": "code",
   "execution_count": 15,
   "metadata": {},
   "outputs": [],
   "source": [
    "node2 = Node.copy()\n",
    "node2[\"value\"] = 2"
   ]
  },
  {
   "cell_type": "code",
   "execution_count": 16,
   "metadata": {},
   "outputs": [],
   "source": [
    "node1[\"next\"] = node2"
   ]
  },
  {
   "cell_type": "markdown",
   "metadata": {},
   "source": [
    "# Semi"
   ]
  },
  {
   "cell_type": "code",
   "execution_count": 76,
   "metadata": {},
   "outputs": [],
   "source": [
    "class Node:\n",
    "    def __init__(self, data):\n",
    "        self.data = data\n",
    "        self.next = None"
   ]
  },
  {
   "cell_type": "code",
   "execution_count": 77,
   "metadata": {},
   "outputs": [],
   "source": [
    "node1 = Node(1)\n",
    "node2 = Node(2)"
   ]
  },
  {
   "cell_type": "code",
   "execution_count": 78,
   "metadata": {},
   "outputs": [],
   "source": [
    "node1.next = node2"
   ]
  },
  {
   "cell_type": "code",
   "execution_count": 79,
   "metadata": {},
   "outputs": [
    {
     "data": {
      "text/plain": [
       "2"
      ]
     },
     "execution_count": 79,
     "metadata": {},
     "output_type": "execute_result"
    }
   ],
   "source": [
    "node1.next.data"
   ]
  },
  {
   "cell_type": "code",
   "execution_count": 81,
   "metadata": {},
   "outputs": [
    {
     "name": "stdout",
     "output_type": "stream",
     "text": [
      "1\n"
     ]
    }
   ],
   "source": [
    "print(node1.data)"
   ]
  },
  {
   "cell_type": "markdown",
   "metadata": {},
   "source": [
    "# join method"
   ]
  },
  {
   "cell_type": "code",
   "execution_count": 108,
   "metadata": {},
   "outputs": [],
   "source": [
    "a = [1,2,3,4,5]"
   ]
  },
  {
   "cell_type": "code",
   "execution_count": 109,
   "metadata": {},
   "outputs": [
    {
     "name": "stdout",
     "output_type": "stream",
     "text": [
      "[1, 2, 3, 4, 5]\n"
     ]
    }
   ],
   "source": [
    "print(a)"
   ]
  },
  {
   "cell_type": "code",
   "execution_count": 110,
   "metadata": {},
   "outputs": [],
   "source": [
    "a = list(map(str, a))"
   ]
  },
  {
   "cell_type": "code",
   "execution_count": 111,
   "metadata": {},
   "outputs": [
    {
     "data": {
      "text/plain": [
       "'1 -> 2 -> 3 -> 4 -> 5'"
      ]
     },
     "execution_count": 111,
     "metadata": {},
     "output_type": "execute_result"
    }
   ],
   "source": [
    "\" -> \".join(a)"
   ]
  },
  {
   "cell_type": "markdown",
   "metadata": {},
   "source": [
    "# Real Linked List"
   ]
  },
  {
   "cell_type": "code",
   "execution_count": null,
   "metadata": {},
   "outputs": [],
   "source": [
    "class Node:\n",
    "    def __init__(self, data):\n",
    "        self.data = data\n",
    "        self.next = None"
   ]
  },
  {
   "cell_type": "code",
   "execution_count": 120,
   "metadata": {},
   "outputs": [],
   "source": [
    "class LinkedList:\n",
    "    def __init__(self):\n",
    "        self.head = None\n",
    "    \n",
    "    def __str__(self):\n",
    "        if self.head == None:\n",
    "            return \"No Data in Array\"\n",
    "        \n",
    "        str_list = []\n",
    "        now = self.head\n",
    "        while now != None:\n",
    "            str_list.append(str(now.data))\n",
    "            now = now.next\n",
    "        return \" -> \".join(str_list)\n",
    "    \n",
    "    def append(self, data):\n",
    "        if self.head == None:\n",
    "            self.head = Node(data)\n",
    "            return\n",
    "        \n",
    "        now = self.head\n",
    "        while True:\n",
    "            if now.next == None:\n",
    "                now.next = Node(data)\n",
    "                return\n",
    "            else:\n",
    "                now = now.next\n",
    "        \n",
    "    def insert_first(self, data):\n",
    "        if self.head == None:\n",
    "            self.head = Node(data)\n",
    "            return\n",
    "        else:\n",
    "            new = Node(data)\n",
    "            new.next = self.head\n",
    "            self.head = new\n",
    "\n",
    "    def insert_after(self, data, after):\n",
    "        \"\"\"\n",
    "        data - 넣고 싶은 데이터\n",
    "        after - 어느 값 뒤에 넣고 싶은지\n",
    "        \n",
    "        data를 after뒤에 넣을 것임\n",
    "        어레이에 after가 없으면 error를 발생시켜야함 (raise error)\n",
    "        \"\"\"\n",
    "        if self.head == None:\n",
    "            raise IndexError(\"No Data in Array\")\n",
    "        \n",
    "        now = self.head\n",
    "        while now != None:\n",
    "            if now.data == after:\n",
    "#                 #version1\n",
    "#                 temp = now.next\n",
    "#                 now.next = Node(data)\n",
    "#                 now.next.next = temp\n",
    "#                 return \n",
    "\n",
    "                #Version2\n",
    "                new = Node(data)\n",
    "                new.next = now.next\n",
    "                now.next = new\n",
    "                return\n",
    "            else:\n",
    "                now = now.next\n",
    "            \n",
    "        print(\"No data in Array\")\n",
    "    def delete(self, data):\n",
    "        \"\"\"\n",
    "        data를 어레이에서 찾아서 지우면 된다\n",
    "        delete의 경우 해당 데이터의 앞 노드의 next와 해당 데이터의 next를 연결시키면 된다\n",
    "        \"\"\"\n",
    "        pass\n",
    "    \n",
    "    def size(self):\n",
    "        \"\"\"\n",
    "        어레이의 크기를 반환해주면 된다.\n",
    "        len(array)와 같은 기능을 하도록 만들면 된다.\n",
    "        \"\"\"\n",
    "        pass"
   ]
  },
  {
   "cell_type": "code",
   "execution_count": 134,
   "metadata": {},
   "outputs": [],
   "source": [
    "LL = LinkedList()"
   ]
  },
  {
   "cell_type": "code",
   "execution_count": 135,
   "metadata": {},
   "outputs": [],
   "source": [
    "LL.append(0)"
   ]
  },
  {
   "cell_type": "code",
   "execution_count": 136,
   "metadata": {},
   "outputs": [],
   "source": [
    "LL.append(1)"
   ]
  },
  {
   "cell_type": "code",
   "execution_count": 137,
   "metadata": {},
   "outputs": [],
   "source": [
    "LL.append(2)"
   ]
  },
  {
   "cell_type": "code",
   "execution_count": 138,
   "metadata": {},
   "outputs": [
    {
     "name": "stdout",
     "output_type": "stream",
     "text": [
      "-1 -> 0 -> 1 -> 2\n"
     ]
    }
   ],
   "source": [
    "LL.insert_first(-1)\n",
    "print(LL)"
   ]
  },
  {
   "cell_type": "code",
   "execution_count": 139,
   "metadata": {},
   "outputs": [
    {
     "name": "stdout",
     "output_type": "stream",
     "text": [
      "-1 -> 0 -> 10 -> 1 -> 2\n"
     ]
    }
   ],
   "source": [
    "LL.insert_after(data = 10, after = 0)\n",
    "print(LL)"
   ]
  },
  {
   "cell_type": "code",
   "execution_count": 140,
   "metadata": {},
   "outputs": [
    {
     "ename": "ValueError",
     "evalue": "No 19 in Array",
     "output_type": "error",
     "traceback": [
      "\u001b[0;31m---------------------------------------------------------------------------\u001b[0m",
      "\u001b[0;31mValueError\u001b[0m                                Traceback (most recent call last)",
      "\u001b[0;32m<ipython-input-140-a9912f22a700>\u001b[0m in \u001b[0;36m<module>\u001b[0;34m\u001b[0m\n\u001b[0;32m----> 1\u001b[0;31m \u001b[0mLL\u001b[0m\u001b[0;34m.\u001b[0m\u001b[0minsert_after\u001b[0m\u001b[0;34m(\u001b[0m\u001b[0mdata\u001b[0m \u001b[0;34m=\u001b[0m \u001b[0;36m10\u001b[0m\u001b[0;34m,\u001b[0m \u001b[0mafter\u001b[0m \u001b[0;34m=\u001b[0m \u001b[0;36m19\u001b[0m\u001b[0;34m)\u001b[0m\u001b[0;34m\u001b[0m\u001b[0;34m\u001b[0m\u001b[0m\n\u001b[0m\u001b[1;32m      2\u001b[0m \u001b[0mprint\u001b[0m\u001b[0;34m(\u001b[0m\u001b[0mLL\u001b[0m\u001b[0;34m)\u001b[0m\u001b[0;34m\u001b[0m\u001b[0;34m\u001b[0m\u001b[0m\n",
      "\u001b[0;32m<ipython-input-120-871e4772afba>\u001b[0m in \u001b[0;36minsert_after\u001b[0;34m(self, data, after)\u001b[0m\n\u001b[1;32m     57\u001b[0m                 \u001b[0mnow\u001b[0m \u001b[0;34m=\u001b[0m \u001b[0mnow\u001b[0m\u001b[0;34m.\u001b[0m\u001b[0mnext\u001b[0m\u001b[0;34m\u001b[0m\u001b[0;34m\u001b[0m\u001b[0m\n\u001b[1;32m     58\u001b[0m \u001b[0;34m\u001b[0m\u001b[0m\n\u001b[0;32m---> 59\u001b[0;31m         \u001b[0;32mraise\u001b[0m \u001b[0mValueError\u001b[0m\u001b[0;34m(\u001b[0m\u001b[0;34mf\"No {after} in Array\"\u001b[0m\u001b[0;34m)\u001b[0m\u001b[0;34m\u001b[0m\u001b[0;34m\u001b[0m\u001b[0m\n\u001b[0m\u001b[1;32m     60\u001b[0m \u001b[0;34m\u001b[0m\u001b[0m\n\u001b[1;32m     61\u001b[0m     \u001b[0;32mdef\u001b[0m \u001b[0mdelete\u001b[0m\u001b[0;34m(\u001b[0m\u001b[0mself\u001b[0m\u001b[0;34m,\u001b[0m \u001b[0mdata\u001b[0m\u001b[0;34m)\u001b[0m\u001b[0;34m:\u001b[0m\u001b[0;34m\u001b[0m\u001b[0;34m\u001b[0m\u001b[0m\n",
      "\u001b[0;31mValueError\u001b[0m: No 19 in Array"
     ]
    }
   ],
   "source": [
    "LL.insert_after(data = 10, after = 19)\n",
    "print(LL)"
   ]
  },
  {
   "cell_type": "code",
   "execution_count": null,
   "metadata": {},
   "outputs": [],
   "source": []
  }
 ],
 "metadata": {
  "kernelspec": {
   "display_name": "Python 3",
   "language": "python",
   "name": "python3"
  },
  "language_info": {
   "codemirror_mode": {
    "name": "ipython",
    "version": 3
   },
   "file_extension": ".py",
   "mimetype": "text/x-python",
   "name": "python",
   "nbconvert_exporter": "python",
   "pygments_lexer": "ipython3",
   "version": "3.7.6"
  }
 },
 "nbformat": 4,
 "nbformat_minor": 4
}
