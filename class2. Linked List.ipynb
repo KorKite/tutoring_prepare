{
 "cells": [
  {
   "cell_type": "markdown",
   "metadata": {},
   "source": [
    "## Error Handler\n",
    "    에러를 다루는 법을 확인해보자\n",
    "    try: \n",
    "        일단 이 구절을 시도\n",
    "    except Error: \n",
    "        이 에러가 뜨면 이걸 실행\n",
    "    finally: \n",
    "        최종적으로는 이걸 실행\n",
    "        \n",
    "    raise Error\n",
    "    \n",
    "    에러 종류:\n",
    "http://hleecaster.com/python-exception/ 참고"
   ]
  },
  {
   "cell_type": "code",
   "execution_count": 80,
   "metadata": {},
   "outputs": [
    {
     "name": "stdout",
     "output_type": "stream",
     "text": [
      "[1, 2, 3, 20, 3]\n"
     ]
    }
   ],
   "source": [
    "try:\n",
    "    a = [1,2,3,4]\n",
    "    a[10] = 20\n",
    "except IndexError:\n",
    "    a[3] = 20\n",
    "finally:\n",
    "    a.append(3)\n",
    "    print(a)"
   ]
  },
  {
   "cell_type": "code",
   "execution_count": 82,
   "metadata": {
    "scrolled": true
   },
   "outputs": [
    {
     "ename": "TypeError",
     "evalue": "exceptions must derive from BaseException",
     "output_type": "error",
     "traceback": [
      "\u001b[0;31m---------------------------------------------------------------------------\u001b[0m",
      "\u001b[0;31mTypeError\u001b[0m                                 Traceback (most recent call last)",
      "\u001b[0;32m<ipython-input-82-5dcd39789f0a>\u001b[0m in \u001b[0;36m<module>\u001b[0;34m\u001b[0m\n\u001b[0;32m----> 1\u001b[0;31m \u001b[0;32mraise\u001b[0m \u001b[0;34m(\u001b[0m\u001b[0;34m\"Hello, My Custom Error\"\u001b[0m\u001b[0;34m)\u001b[0m\u001b[0;34m\u001b[0m\u001b[0;34m\u001b[0m\u001b[0m\n\u001b[0m",
      "\u001b[0;31mTypeError\u001b[0m: exceptions must derive from BaseException"
     ]
    }
   ],
   "source": [
    "raise ValueError(\"Hello, My Custom Error\")"
   ]
  },
  {
   "cell_type": "markdown",
   "metadata": {},
   "source": [
    "## Linked List\n",
    "    단순연결 리스트로 헤드로부터 한줄로 쭉 이어져 있는 자료구조이다."
   ]
  },
  {
   "cell_type": "code",
   "execution_count": 1,
   "metadata": {},
   "outputs": [],
   "source": [
    "class Node:\n",
    "    def __init__(self, data):\n",
    "        self.data = data\n",
    "        self.next = None"
   ]
  },
  {
   "cell_type": "code",
   "execution_count": 69,
   "metadata": {},
   "outputs": [],
   "source": [
    "class LinkedList:\n",
    "    def __init__(self):\n",
    "        self.head = None\n",
    "    \n",
    "    def __str__(self):\n",
    "        if self.head == None:\n",
    "            return \"No Data in Array\"\n",
    "        \n",
    "        str_list = []\n",
    "        now = self.head\n",
    "        while now != None:\n",
    "            str_list.append(str(now.data))\n",
    "            now = now.next\n",
    "        return \"->\".join(str_list)\n",
    "    \n",
    "    def append(self, data):\n",
    "        if self.head == None:\n",
    "            self.head = Node(data)\n",
    "            return\n",
    "        now = self.head\n",
    "        while True:\n",
    "            if now.next == None:\n",
    "                now.next = Node(data)\n",
    "                break\n",
    "            else:\n",
    "                now = now.next\n",
    "        \n",
    "    def insert_first(self, data):\n",
    "        if self.head == None:\n",
    "            self.head = Node(data)\n",
    "            return\n",
    "        new = Node(data)\n",
    "        new.next = self.head\n",
    "        self.head = new\n",
    "    \n",
    "    def insert_after(self, data, after):\n",
    "        \"\"\"\n",
    "        data - 넣고 싶은 데이터\n",
    "        after - 어느 값 뒤에 넣고 싶은지\n",
    "        \n",
    "        data를 after뒤에 넣을 것임\n",
    "        어레이에 after가 없으면 error를 발생시켜야함 (raise error)\n",
    "        \"\"\"\n",
    "        pass\n",
    "    \n",
    "    def delete(self, data):\n",
    "        \"\"\"\n",
    "        data를 어레이에서 찾아서 지우면 된다\n",
    "        delete의 경우 해당 데이터의 앞 노드의 next와 해당 데이터의 next를 연결시키면 된다\n",
    "        \"\"\"\n",
    "        pass\n",
    "    \n",
    "    def size(self):\n",
    "        \"\"\"\n",
    "        어레이의 크기를 반환해주면 된다.\n",
    "        len(array)와 같은 기능을 하도록 만들면 된다.\n",
    "        \"\"\"\n",
    "        pass\n",
    "    \n",
    "    def "
   ]
  },
  {
   "cell_type": "code",
   "execution_count": 70,
   "metadata": {},
   "outputs": [],
   "source": [
    "LL = LinkedList()"
   ]
  }
 ],
 "metadata": {
  "kernelspec": {
   "display_name": "Python 3",
   "language": "python",
   "name": "python3"
  },
  "language_info": {
   "codemirror_mode": {
    "name": "ipython",
    "version": 3
   },
   "file_extension": ".py",
   "mimetype": "text/x-python",
   "name": "python",
   "nbconvert_exporter": "python",
   "pygments_lexer": "ipython3",
   "version": "3.7.6"
  }
 },
 "nbformat": 4,
 "nbformat_minor": 4
}
