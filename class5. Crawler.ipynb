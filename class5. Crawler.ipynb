{
 "cells": [
  {
   "cell_type": "code",
   "execution_count": 14,
   "metadata": {},
   "outputs": [],
   "source": [
    "import selenium\n",
    "from bs4 import BeautifulSoup"
   ]
  },
  {
   "cell_type": "code",
   "execution_count": 53,
   "metadata": {},
   "outputs": [],
   "source": [
    "from selenium import webdriver\n",
    "\n",
    "driver = webdriver.Chrome(executable_path='./chromedriver')"
   ]
  },
  {
   "cell_type": "code",
   "execution_count": 10,
   "metadata": {},
   "outputs": [],
   "source": [
    "import time"
   ]
  },
  {
   "cell_type": "code",
   "execution_count": 34,
   "metadata": {},
   "outputs": [],
   "source": [
    "BASE_URL = \"https://everytime.kr\"\n",
    "insa = \"/370444\"\n",
    "\n",
    "# driver.get(BASE_URL + insa)\n",
    "link_list = []\n",
    "for i in range(1, 10):\n",
    "    page = f\"/p/{i}\"\n",
    "    URL_Path = BASE_URL+insa+page\n",
    "    driver.get(URL_Path)\n",
    "    time.sleep(1)\n",
    "    html = driver.page_source\n",
    "\n",
    "    soup = BeautifulSoup(html, 'html.parser')\n",
    "    for a in (soup.find_all(\"a\", {\"class\":\"article\"})):\n",
    "        new_link = a[\"href\"]\n",
    "        if new_link.startswith(insa):\n",
    "            link_list.append(new_link)\n",
    "\n",
    "post_list = [BASE_URL + link for link in link_list]"
   ]
  },
  {
   "cell_type": "code",
   "execution_count": 59,
   "metadata": {},
   "outputs": [],
   "source": [
    "import urllib\n",
    "# soup = BeautifulSoup(html, \"lxml\")\n",
    "\n",
    "posts = {}\n",
    "\n",
    "for i in post_list[:10]:\n",
    "    driver.get(i)\n",
    "    time.sleep(0.4)\n",
    "    html = driver.page_source\n",
    "    soup = BeautifulSoup(html, \"html.parser\")\n",
    "    try:\n",
    "        title = (soup.find(\"h2\",{\"class\":\"large\"}).text)\n",
    "        contents = (soup.find(\"p\",{\"class\":\"large\"}).text)\n",
    "        posts[title] = contents\n",
    "    except:\n",
    "        continue\n",
    "    "
   ]
  },
  {
   "cell_type": "code",
   "execution_count": 60,
   "metadata": {},
   "outputs": [
    {
     "data": {
      "text/plain": [
       "{'남사친 옆에서 보면 코가 높은건 아닌데': '콧대 뚜렷하고 앞에서 보면 티존도 이쁜데 어떻게 그런걸까?',\n",
       " '자존감이 낮진 않은데': '예쁜 사람이 부럽고 특히 남자 애들한테 인기많은애들 너무 부러워 안 부러운척하는데 존나 처량하다ㅠㅠ 고딩때 꾸미는거 1도 모르고 공부만하다가 대학오니 이쁜데 공부도 잘하는 애들이 제일 부러웠어이런 열등감 어떻게 극복할까?나 좋다는 사람도 있었고 번호도 두번인가 따여보긴 했는데 그냥 예쁘고 취업잘하고 그런사람 너무 부럽다.. ㅠ 열등감이 심하진 않은데 그냥 이런 생각에 위축되는데 극복법 아는사람',\n",
       " '교환학생, 학회': '많은 분들이 교환학생이나 학회 활동을 스펙으로 준비하시는 것 같은데 이유가 있을까요?? 그리고 어떤 것들을 얻고자 하시는지 궁금합니다!',\n",
       " '(도움필요)) 복전하면 자유로운 학점....': '전공이랑 필수교양 빼고 자유롭게 듣는 학점들 있잖아여 만약 복수 전공 하면 그 자유롭게 듣는 학점들이 대강 어느정도 되나요? ㅠㅠㅠ',\n",
       " '남자들 보통 숏컷 안좋아하나 싶었는데': '투블럭으로 옆머리 싹밀어도 얼굴 예뻐서 어울리면 인기많더라ㅋㅋㅋㅋㅋㅋ',\n",
       " '거주지역 봉사': '봉사를 하고 싶은데 어떻게 해야할지 모르겠어요ㅠㅠ좋은 일을 하고 싶어서 시간 상관없이 거주 지역 근방에서 하거나, 시간이 괜찮을 때 하고 싶은데 어떻게 찾을 수 있을까요?',\n",
       " '국장 소득분위': '왤케 안나오죠 ㅠㅠ 12월 말에 신청했은데.. 저처럼 아직까지 안나오신 분 있나요!!',\n",
       " '내 친구 dm 이렇게 왔는데': '해석해주니까 친구가 이걸 믿는데 어떻게 말해야 이게 사기라는걸 깨닫게 해줄까',\n",
       " '아나콘다2 또 보는데': '명작이네 십년만에 봐도'}"
      ]
     },
     "execution_count": 60,
     "metadata": {},
     "output_type": "execute_result"
    }
   ],
   "source": []
  },
  {
   "cell_type": "code",
   "execution_count": null,
   "metadata": {},
   "outputs": [],
   "source": []
  }
 ],
 "metadata": {
  "kernelspec": {
   "display_name": "Python 3",
   "language": "python",
   "name": "python3"
  },
  "language_info": {
   "codemirror_mode": {
    "name": "ipython",
    "version": 3
   },
   "file_extension": ".py",
   "mimetype": "text/x-python",
   "name": "python",
   "nbconvert_exporter": "python",
   "pygments_lexer": "ipython3",
   "version": "3.7.6"
  }
 },
 "nbformat": 4,
 "nbformat_minor": 4
}
