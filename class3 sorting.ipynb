{
  "cells": [
    {
      "cell_type": "markdown",
      "source": [
        "# Sorting"
      ],
      "metadata": {}
    },
    {
      "cell_type": "code",
      "source": [
        "a = [4,3,7,6,1,8,9,2]"
      ],
      "outputs": [],
      "execution_count": 68,
      "metadata": {}
    },
    {
      "cell_type": "markdown",
      "source": [
        "### 1. 선택 정렬"
      ],
      "metadata": {}
    },
    {
      "cell_type": "code",
      "source": [
        "def selection_sort(data):\n",
        "    for i in range(len(data)):\n",
        "        min_val = i\n",
        "        for j in range(i, len(data)):\n",
        "            if data[j] < data[min_val]:\n",
        "                min_val = j\n",
        "        if min_val != i:\n",
        "            data[min_val], data[i] = data[i], data[min_val]\n",
        "    \n",
        "    return data"
      ],
      "outputs": [],
      "execution_count": 69,
      "metadata": {}
    },
    {
      "cell_type": "code",
      "source": [
        "selection_sort(a.copy())"
      ],
      "outputs": [
        {
          "output_type": "execute_result",
          "execution_count": 70,
          "data": {
            "text/plain": "[1, 2, 3, 4, 6, 7, 8, 9]"
          },
          "metadata": {}
        }
      ],
      "execution_count": 70,
      "metadata": {
        "scrolled": true
      }
    },
    {
      "cell_type": "markdown",
      "source": [
        "### 2. 삽입정렬"
      ],
      "metadata": {}
    },
    {
      "cell_type": "code",
      "source": [
        "def insert_sort(data):\n",
        "    for i in range(1, len(data)):\n",
        "        print(\"data: \", data)\n",
        "        for j in range(i, 0, -1):\n",
        "#             print(data[j] , data[j-1])\n",
        "            if data[j] < data[j-1]:\n",
        "                data[j], data[j-1] = data[j-1], data[j]\n",
        "            else:\n",
        "                break\n",
        "    return data"
      ],
      "outputs": [],
      "execution_count": 79,
      "metadata": {}
    },
    {
      "cell_type": "code",
      "source": [
        "insert_sort(a.copy())"
      ],
      "outputs": [
        {
          "output_type": "stream",
          "name": "stdout",
          "text": [
            "data:  [4, 3, 7, 6, 1, 8, 9, 2]\n",
            "data:  [3, 4, 7, 6, 1, 8, 9, 2]\n",
            "data:  [3, 4, 7, 6, 1, 8, 9, 2]\n",
            "data:  [3, 4, 6, 7, 1, 8, 9, 2]\n",
            "data:  [1, 3, 4, 6, 7, 8, 9, 2]\n",
            "data:  [1, 3, 4, 6, 7, 8, 9, 2]\n",
            "data:  [1, 3, 4, 6, 7, 8, 9, 2]\n"
          ]
        },
        {
          "output_type": "execute_result",
          "execution_count": 80,
          "data": {
            "text/plain": "[1, 2, 3, 4, 6, 7, 8, 9]"
          },
          "metadata": {}
        }
      ],
      "execution_count": 80,
      "metadata": {}
    },
    {
      "cell_type": "markdown",
      "source": [
        "### 3. 합병정렬\n",
        "재귀 사용"
      ],
      "metadata": {}
    },
    {
      "cell_type": "code",
      "source": [
        "def merge(left, right):\n",
        "    result = []\n",
        "    while len(left) > 0 or len(right) > 0:\n",
        "        if len(left) > 0 and len(right) > 0:\n",
        "            if left[0] <= right[0]:\n",
        "                result.append(left[0])\n",
        "                left = left[1:]\n",
        "            else:\n",
        "                result.append(right[0])\n",
        "                right = right[1:]\n",
        "        elif len(left) > 0:\n",
        "            result.append(left[0])\n",
        "            left = left[1:]\n",
        "        elif len(right) > 0:\n",
        "            result.append(right[0])\n",
        "            right = right[1:]\n",
        "    return result"
      ],
      "outputs": [],
      "execution_count": 87,
      "metadata": {}
    },
    {
      "cell_type": "code",
      "source": [
        "def merge_sort(list):\n",
        "    if len(list) <= 1:\n",
        "        return list\n",
        "    mid = len(list) // 2\n",
        "    leftList = list[:mid]\n",
        "    rightList = list[mid:]\n",
        "    leftList = merge_sort(leftList)\n",
        "    rightList = merge_sort(rightList)\n",
        "    return merge(leftList, rightList)"
      ],
      "outputs": [],
      "execution_count": 88,
      "metadata": {}
    },
    {
      "cell_type": "code",
      "source": [
        "merge_sort(a.copy())"
      ],
      "outputs": [
        {
          "output_type": "execute_result",
          "execution_count": 89,
          "data": {
            "text/plain": "[1, 2, 3, 4, 6, 7, 8, 9]"
          },
          "metadata": {}
        }
      ],
      "execution_count": 89,
      "metadata": {}
    }
  ],
  "metadata": {
    "kernelspec": {
      "display_name": "Python 3",
      "language": "python",
      "name": "python3"
    },
    "language_info": {
      "codemirror_mode": {
        "name": "ipython",
        "version": 3
      },
      "file_extension": ".py",
      "mimetype": "text/x-python",
      "name": "python",
      "nbconvert_exporter": "python",
      "pygments_lexer": "ipython3",
      "version": "3.7.6"
    },
    "nteract": {
      "version": "0.27.0"
    }
  },
  "nbformat": 4,
  "nbformat_minor": 4
}