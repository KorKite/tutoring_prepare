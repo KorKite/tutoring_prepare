{
 "cells": [
  {
   "cell_type": "markdown",
   "metadata": {},
   "source": [
    "# Sorting"
   ]
  },
  {
   "cell_type": "code",
   "execution_count": 68,
   "metadata": {},
   "outputs": [],
   "source": [
    "a = [4,3,7,6,1,8,9,2]"
   ]
  },
  {
   "cell_type": "markdown",
   "metadata": {},
   "source": [
    "### 1. 선택 정렬"
   ]
  },
  {
   "cell_type": "code",
   "execution_count": 69,
   "metadata": {},
   "outputs": [],
   "source": [
    "def selection_sort(data):\n",
    "    for i in range(len(data)):\n",
    "        min_val = i\n",
    "        for j in range(i, len(data)):\n",
    "            if data[j] < data[min_val]:\n",
    "                min_val = j\n",
    "        if min_val != i:\n",
    "            data[min_val], data[i] = data[i], data[min_val]\n",
    "    \n",
    "    return data"
   ]
  },
  {
   "cell_type": "code",
   "execution_count": 70,
   "metadata": {
    "scrolled": true
   },
   "outputs": [
    {
     "data": {
      "text/plain": [
       "[1, 2, 3, 4, 6, 7, 8, 9]"
      ]
     },
     "execution_count": 70,
     "metadata": {},
     "output_type": "execute_result"
    }
   ],
   "source": [
    "selection_sort(a.copy())"
   ]
  },
  {
   "cell_type": "markdown",
   "metadata": {},
   "source": [
    "### 2. 삽입정렬"
   ]
  },
  {
   "cell_type": "code",
   "execution_count": 79,
   "metadata": {},
   "outputs": [],
   "source": [
    "def insert_sort(data):\n",
    "    for i in range(1, len(data)):\n",
    "        print(\"data: \", data)\n",
    "        for j in range(i, 0, -1):\n",
    "#             print(data[j] , data[j-1])\n",
    "            if data[j] < data[j-1]:\n",
    "                data[j], data[j-1] = data[j-1], data[j]\n",
    "            else:\n",
    "                break\n",
    "    return data"
   ]
  },
  {
   "cell_type": "code",
   "execution_count": 80,
   "metadata": {},
   "outputs": [
    {
     "name": "stdout",
     "output_type": "stream",
     "text": [
      "data:  [4, 3, 7, 6, 1, 8, 9, 2]\n",
      "data:  [3, 4, 7, 6, 1, 8, 9, 2]\n",
      "data:  [3, 4, 7, 6, 1, 8, 9, 2]\n",
      "data:  [3, 4, 6, 7, 1, 8, 9, 2]\n",
      "data:  [1, 3, 4, 6, 7, 8, 9, 2]\n",
      "data:  [1, 3, 4, 6, 7, 8, 9, 2]\n",
      "data:  [1, 3, 4, 6, 7, 8, 9, 2]\n"
     ]
    },
    {
     "data": {
      "text/plain": [
       "[1, 2, 3, 4, 6, 7, 8, 9]"
      ]
     },
     "execution_count": 80,
     "metadata": {},
     "output_type": "execute_result"
    }
   ],
   "source": [
    "insert_sort(a.copy())"
   ]
  },
  {
   "cell_type": "markdown",
   "metadata": {},
   "source": [
    "### 3. 합병정렬\n",
    "재귀 사용"
   ]
  },
  {
   "cell_type": "code",
   "execution_count": 87,
   "metadata": {},
   "outputs": [],
   "source": [
    "def merge(left, right):\n",
    "    result = []\n",
    "    while len(left) > 0 or len(right) > 0:\n",
    "        if len(left) > 0 and len(right) > 0:\n",
    "            if left[0] <= right[0]:\n",
    "                result.append(left[0])\n",
    "                left = left[1:]\n",
    "            else:\n",
    "                result.append(right[0])\n",
    "                right = right[1:]\n",
    "        elif len(left) > 0:\n",
    "            result.append(left[0])\n",
    "            left = left[1:]\n",
    "        elif len(right) > 0:\n",
    "            result.append(right[0])\n",
    "            right = right[1:]\n",
    "    return result"
   ]
  },
  {
   "cell_type": "code",
   "execution_count": 88,
   "metadata": {},
   "outputs": [],
   "source": [
    "def merge_sort(list):\n",
    "    if len(list) <= 1:\n",
    "        return list\n",
    "    mid = len(list) // 2\n",
    "    leftList = list[:mid]\n",
    "    rightList = list[mid:]\n",
    "    leftList = merge_sort(leftList)\n",
    "    rightList = merge_sort(rightList)\n",
    "    return merge(leftList, rightList)"
   ]
  },
  {
   "cell_type": "code",
   "execution_count": 89,
   "metadata": {
    "scrolled": true
   },
   "outputs": [
    {
     "data": {
      "text/plain": [
       "[1, 2, 3, 4, 6, 7, 8, 9]"
      ]
     },
     "execution_count": 89,
     "metadata": {},
     "output_type": "execute_result"
    }
   ],
   "source": [
    "merge_sort(a.copy())"
   ]
  },
  {
   "cell_type": "code",
   "execution_count": 7,
   "metadata": {},
   "outputs": [
    {
     "data": {
      "text/plain": [
       "4"
      ]
     },
     "execution_count": 7,
     "metadata": {},
     "output_type": "execute_result"
    }
   ],
   "source": [
    "def binary_search(input_list, target):\n",
    "    low = 0\n",
    "    high = len(input_list)-1\n",
    "    \n",
    "    while True:\n",
    "        if low >= high:\n",
    "            return False\n",
    "        \n",
    "        half = (low+high)//2\n",
    "        if input_list[half] == target:\n",
    "            return half\n",
    "        elif input_list[half] > target:\n",
    "            high = half-1\n",
    "        elif input_list[half] < target:\n",
    "            low = half+1\n",
    "            \n",
    "            \n",
    "a = [1,3,5,6,7,9,11,24,30]\n",
    "binary_search(a, 7)"
   ]
  },
  {
   "cell_type": "code",
   "execution_count": 5,
   "metadata": {},
   "outputs": [
    {
     "data": {
      "text/plain": [
       "4"
      ]
     },
     "execution_count": 5,
     "metadata": {},
     "output_type": "execute_result"
    }
   ],
   "source": [
    "def recursive_binary_search(low, high, target):\n",
    "    if low > high:\n",
    "        return False\n",
    "    half = (low+high)//2\n",
    "    if target == a[half]:\n",
    "        return half\n",
    "    elif target > half:\n",
    "        return recursive_binary_search(half+1, high, target)\n",
    "    else:\n",
    "        return recursive_binary_search(low, half-1, target)\n",
    "\n",
    "a = [1,3,5,6,7,9,11,24,30]\n",
    "recursive_binary_search(0, 9, 7)"
   ]
  },
  {
   "cell_type": "code",
   "execution_count": null,
   "metadata": {},
   "outputs": [],
   "source": []
  }
 ],
 "metadata": {
  "kernelspec": {
   "display_name": "Python 3",
   "language": "python",
   "name": "python3"
  },
  "language_info": {
   "codemirror_mode": {
    "name": "ipython",
    "version": 3
   },
   "file_extension": ".py",
   "mimetype": "text/x-python",
   "name": "python",
   "nbconvert_exporter": "python",
   "pygments_lexer": "ipython3",
   "version": "3.7.6"
  },
  "nteract": {
   "version": "0.27.0"
  }
 },
 "nbformat": 4,
 "nbformat_minor": 4
}
