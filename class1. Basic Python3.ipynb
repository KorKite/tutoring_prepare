{
 "cells": [
  {
   "cell_type": "markdown",
   "metadata": {},
   "source": [
    "# Python3 Basic"
   ]
  },
  {
   "cell_type": "markdown",
   "metadata": {},
   "source": [
    "### Basic for"
   ]
  },
  {
   "cell_type": "code",
   "execution_count": 2,
   "metadata": {},
   "outputs": [],
   "source": [
    "a = [1,2,3,4,5,6]\n",
    "b = [9,8,7,6,5,4]"
   ]
  },
  {
   "cell_type": "code",
   "execution_count": null,
   "metadata": {},
   "outputs": [],
   "source": [
    "for i in range(10):\n",
    "    print(i)"
   ]
  },
  {
   "cell_type": "code",
   "execution_count": null,
   "metadata": {},
   "outputs": [],
   "source": [
    "for i in range(10, -1, -1):\n",
    "    print(i)"
   ]
  },
  {
   "cell_type": "code",
   "execution_count": null,
   "metadata": {},
   "outputs": [],
   "source": [
    "for i in a:\n",
    "    print(i)"
   ]
  },
  {
   "cell_type": "code",
   "execution_count": null,
   "metadata": {},
   "outputs": [],
   "source": [
    "for i in zip(a,b):\n",
    "    print(i)"
   ]
  },
  {
   "cell_type": "code",
   "execution_count": null,
   "metadata": {},
   "outputs": [],
   "source": [
    "for idx, i in enumerate(a):\n",
    "    print(idx, i)"
   ]
  },
  {
   "cell_type": "code",
   "execution_count": null,
   "metadata": {},
   "outputs": [],
   "source": [
    "from tqdm import tqdm_notebook\n",
    "a = 0\n",
    "for i in tqdm_notebook(range(1000)):\n",
    "    a += i"
   ]
  },
  {
   "cell_type": "markdown",
   "metadata": {},
   "source": [
    "### List Comprehension"
   ]
  },
  {
   "cell_type": "code",
   "execution_count": 14,
   "metadata": {},
   "outputs": [
    {
     "name": "stdout",
     "output_type": "stream",
     "text": [
      "[10, 9, 8, 7, 6, 5, 11, 10, 9, 8, 7, 6, 12, 11, 10, 9, 8, 7, 13, 12, 11, 10, 9, 8, 14, 13, 12, 11, 10, 9, 15, 14, 13, 12, 11, 10]\n"
     ]
    }
   ],
   "source": [
    "# without list comprehension\n",
    "new_list = []\n",
    "for i in a:\n",
    "    for j in b:\n",
    "        new_list.append(i+j)\n",
    "print(new_list)"
   ]
  },
  {
   "cell_type": "code",
   "execution_count": 15,
   "metadata": {},
   "outputs": [
    {
     "name": "stdout",
     "output_type": "stream",
     "text": [
      "[10, 9, 8, 7, 6, 5, 11, 10, 9, 8, 7, 6, 12, 11, 10, 9, 8, 7, 13, 12, 11, 10, 9, 8, 14, 13, 12, 11, 10, 9, 15, 14, 13, 12, 11, 10]\n"
     ]
    }
   ],
   "source": [
    "# list comprehension\n",
    "new_list = [i+j for i in a for j in b]\n",
    "print(new_list)"
   ]
  },
  {
   "cell_type": "code",
   "execution_count": 16,
   "metadata": {},
   "outputs": [
    {
     "name": "stdout",
     "output_type": "stream",
     "text": [
      "[12, 11, 10, 9, 8, 13, 12, 11, 10, 9, 14, 13, 12, 11, 10]\n"
     ]
    }
   ],
   "source": [
    "# without list comprehension\n",
    "new_list = []\n",
    "for i in a:\n",
    "    if i >3:\n",
    "        for j in b:\n",
    "            if j <9:\n",
    "                new_list.append(i+j)\n",
    "print(new_list)"
   ]
  },
  {
   "cell_type": "code",
   "execution_count": 17,
   "metadata": {},
   "outputs": [
    {
     "name": "stdout",
     "output_type": "stream",
     "text": [
      "[12, 11, 10, 9, 8, 13, 12, 11, 10, 9, 14, 13, 12, 11, 10]\n"
     ]
    }
   ],
   "source": [
    "# list comprehension with if\n",
    "new_list = [i+j for i in a if i>3 for j in b if j<9]\n",
    "print(new_list)"
   ]
  },
  {
   "cell_type": "markdown",
   "metadata": {},
   "source": [
    "### function"
   ]
  },
  {
   "cell_type": "code",
   "execution_count": 18,
   "metadata": {},
   "outputs": [
    {
     "name": "stdout",
     "output_type": "stream",
     "text": [
      "55\n"
     ]
    }
   ],
   "source": [
    "def add_many(*args): \n",
    "    result = 0 \n",
    "    for i in args: \n",
    "        result = result + i \n",
    "    return result\n",
    "\n",
    "print(add_many(1,2,3,4,5,6,7,8,9,10))"
   ]
  },
  {
   "cell_type": "code",
   "execution_count": 19,
   "metadata": {},
   "outputs": [
    {
     "name": "stdout",
     "output_type": "stream",
     "text": [
      "{'name': 'foo', 'age': 3}\n"
     ]
    }
   ],
   "source": [
    "def print_kwargs(**kwargs):\n",
    "    print(kwargs)\n",
    "print_kwargs(name='foo', age=3)"
   ]
  },
  {
   "cell_type": "markdown",
   "metadata": {},
   "source": [
    "### lamda function"
   ]
  },
  {
   "cell_type": "code",
   "execution_count": 25,
   "metadata": {},
   "outputs": [
    {
     "name": "stdout",
     "output_type": "stream",
     "text": [
      "3\n",
      "3\n"
     ]
    }
   ],
   "source": [
    "#basic lambda\n",
    "def add(a, b):\n",
    "    return a + b\n",
    "print(add(1,2))\n",
    "\n",
    "add = lambda a, b: a+b\n",
    "print(add(1,2))"
   ]
  },
  {
   "cell_type": "code",
   "execution_count": 34,
   "metadata": {},
   "outputs": [
    {
     "name": "stdout",
     "output_type": "stream",
     "text": [
      "fail\n",
      "pass\n"
     ]
    }
   ],
   "source": [
    "# lambda with if\n",
    "print((lambda x : \"pass\" if x > 160 else \"fail\")(150))\n",
    "print((lambda x : \"pass\" if x > 160 else \"fail\")(180))"
   ]
  },
  {
   "cell_type": "code",
   "execution_count": 39,
   "metadata": {},
   "outputs": [
    {
     "data": {
      "text/plain": [
       "[200, 180, 160]"
      ]
     },
     "execution_count": 39,
     "metadata": {},
     "output_type": "execute_result"
    }
   ],
   "source": [
    "a = [[\"A\",150], [\"B\", 130], [\"C\", 110]]\n",
    "new_list = [(lambda x:x[1]+50)(x) for x in a ]\n",
    "new_list"
   ]
  },
  {
   "cell_type": "markdown",
   "metadata": {},
   "source": [
    "### Class"
   ]
  },
  {
   "cell_type": "code",
   "execution_count": 61,
   "metadata": {},
   "outputs": [
    {
     "name": "stdout",
     "output_type": "stream",
     "text": [
      "4\n",
      "1\n"
     ]
    }
   ],
   "source": [
    "# class basic\n",
    "class car:\n",
    "    wheel = 4\n",
    "    handle = 1\n",
    "    \n",
    "car1 = car()\n",
    "print(car1.wheel)\n",
    "print(car1.handle)"
   ]
  },
  {
   "cell_type": "code",
   "execution_count": 43,
   "metadata": {},
   "outputs": [
    {
     "name": "stdout",
     "output_type": "stream",
     "text": [
      "4\n",
      "1\n"
     ]
    }
   ],
   "source": [
    "# class 설계1\n",
    "class car:\n",
    "    def __init__(self):\n",
    "        self.wheel = 4\n",
    "        self.handle = 1\n",
    "    \n",
    "car1 = car()\n",
    "print(car1.wheel)\n",
    "print(car1.handle)"
   ]
  },
  {
   "cell_type": "code",
   "execution_count": 45,
   "metadata": {},
   "outputs": [
    {
     "name": "stdout",
     "output_type": "stream",
     "text": [
      "white\n",
      "Car Object\n"
     ]
    }
   ],
   "source": [
    "# class 설계2\n",
    "class car:\n",
    "    def __init__(self):\n",
    "        self.wheel = 4\n",
    "        self.handle = 1\n",
    "    \n",
    "    def add_color(self, color):\n",
    "        self.color = color\n",
    "    \n",
    "    def __str__(self):\n",
    "        return \"Car Object\"\n",
    "    \n",
    "car1 = car()\n",
    "car1.add_color(\"white\")\n",
    "print(car1.color)\n",
    "print(car1)"
   ]
  },
  {
   "cell_type": "code",
   "execution_count": 47,
   "metadata": {},
   "outputs": [
    {
     "name": "stdout",
     "output_type": "stream",
     "text": [
      "4\n",
      "1\n",
      "big\n"
     ]
    }
   ],
   "source": [
    "# 상속\n",
    "class car:\n",
    "    def __init__(self):\n",
    "        self.wheel = 4\n",
    "        self.handle = 1\n",
    "    \n",
    "    def add_color(self, color):\n",
    "        self.color = color\n",
    "    \n",
    "class bus(car):\n",
    "    size = \"big\"\n",
    "    \n",
    "bus1 = bus()\n",
    "print(bus1.wheel)\n",
    "print(bus1.handle)\n",
    "print(bus1.size)"
   ]
  },
  {
   "cell_type": "code",
   "execution_count": 60,
   "metadata": {
    "scrolled": true
   },
   "outputs": [
    {
     "name": "stdout",
     "output_type": "stream",
     "text": [
      "blue\n"
     ]
    }
   ],
   "source": [
    "# 상속 super\n",
    "class car:\n",
    "    def __init__(self):\n",
    "        self.wheel = 4\n",
    "        self.handle = 1\n",
    "    \n",
    "    def add_color(self, color):\n",
    "        self.color = color\n",
    "    \n",
    "\n",
    "class bus(car):\n",
    "    def __init__(self):\n",
    "        super().__init__()\n",
    "        \n",
    "    def add_color(self, color):\n",
    "        super().add_color(color)\n",
    "    \n",
    "bus1 = bus()\n",
    "bus1.add_color(\"blue\")\n",
    "print(bus1.color)"
   ]
  },
  {
   "cell_type": "markdown",
   "metadata": {},
   "source": [
    "이것 외에도 추가로 하게 된다면\n",
    "* string처리하는 기술 (join 같은거)\n",
    "* 관계식\n",
    "* 자료구조\n",
    "* 알고리즘\n",
    "* plot그리는법\n",
    "\n",
    "등 을 하면 좋을 것 같습니다.\n",
    "왜 각 구조를 사용하는지, 파이썬의 기본적인 내용 (리스트나 변수 호출방법)을 곁들여서 알려드리겠습니다."
   ]
  }
 ],
 "metadata": {
  "kernelspec": {
   "display_name": "Python 3",
   "language": "python",
   "name": "python3"
  },
  "language_info": {
   "codemirror_mode": {
    "name": "ipython",
    "version": 3
   },
   "file_extension": ".py",
   "mimetype": "text/x-python",
   "name": "python",
   "nbconvert_exporter": "python",
   "pygments_lexer": "ipython3",
   "version": "3.7.6"
  }
 },
 "nbformat": 4,
 "nbformat_minor": 4
}
